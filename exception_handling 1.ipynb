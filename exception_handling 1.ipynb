{
 "cells": [
  {
   "cell_type": "code",
   "execution_count": 1,
   "metadata": {},
   "outputs": [
    {
     "data": {
      "text/plain": [
       "' What is an Exception in python? Write the diffrence between Exceptions and Syntax errors.'"
      ]
     },
     "execution_count": 1,
     "metadata": {},
     "output_type": "execute_result"
    }
   ],
   "source": [
    "''' What is an Exception in python? Write the diffrence between Exceptions and Syntax errors.'''"
   ]
  },
  {
   "cell_type": "code",
   "execution_count": 3,
   "metadata": {},
   "outputs": [
    {
     "data": {
      "text/plain": [
       "\"\\nIn Python, an exception is an event that occurs during the execution of a program and disrupts the normal flow of the program's instructions.\\nA syntax error occurs during the parsing of the code i.e, when the Python interpreter is trying to interpret your code before executing it. \\nWhereas, An exception on the other hand, occurs during the execution of the program, when the interpreter encounters a statement that it recognizes but cannot execute \\ndue to some problem.\\n\""
      ]
     },
     "execution_count": 3,
     "metadata": {},
     "output_type": "execute_result"
    }
   ],
   "source": [
    "'''\n",
    "In Python, an exception is an event that occurs during the execution of a program and disrupts the normal flow of the program's instructions.\n",
    "A syntax error occurs during the parsing of the code i.e, when the Python interpreter is trying to interpret your code before executing it. \n",
    "Whereas, An exception on the other hand, occurs during the execution of the program, when the interpreter encounters a statement that it recognizes but cannot execute \n",
    "due to some problem.\n",
    "'''"
   ]
  },
  {
   "cell_type": "code",
   "execution_count": 4,
   "metadata": {},
   "outputs": [
    {
     "data": {
      "text/plain": [
       "' What happens when an exception is not handeled? Explain with example.'"
      ]
     },
     "execution_count": 4,
     "metadata": {},
     "output_type": "execute_result"
    }
   ],
   "source": [
    "''' What happens when an exception is not handeled? Explain with example.'''"
   ]
  },
  {
   "cell_type": "code",
   "execution_count": 5,
   "metadata": {},
   "outputs": [
    {
     "data": {
      "text/plain": [
       "' \\nWhen an exception is not handled in a program, it leads to what is commonly known as an \"unhandled exception\" or an \"uncaught exception.\" In such a scenario, the default behavior of the program is to terminate, and an error message is displayed, providing information about the exception that occurred.\\n# Example: Division by zero without handling the exception\\n\\ndef divide_numbers(a, b):\\n    result = a / b\\n    return result\\n\\n# Calling the function with a division by zero\\nresult = divide_numbers(10, 0)\\nprint(\"Result:\", result)\\n\\n'"
      ]
     },
     "execution_count": 5,
     "metadata": {},
     "output_type": "execute_result"
    }
   ],
   "source": [
    "''' \n",
    "When an exception is not handled in a program, it leads to what is commonly known as an \"unhandled exception\" or an \"uncaught exception.\" In such a scenario, the default behavior of the program is to terminate, and an error message is displayed, providing information about the exception that occurred.\n",
    "# Example: Division by zero without handling the exception\n",
    "\n",
    "def divide_numbers(a, b):\n",
    "    result = a / b\n",
    "    return result\n",
    "\n",
    "# Calling the function with a division by zero\n",
    "result = divide_numbers(10, 0)\n",
    "print(\"Result:\", result)\n",
    "\n",
    "'''"
   ]
  },
  {
   "cell_type": "code",
   "execution_count": 6,
   "metadata": {},
   "outputs": [
    {
     "data": {
      "text/plain": [
       "'Which python statements are used to catch and handel exceptions? Explain with an example.'"
      ]
     },
     "execution_count": 6,
     "metadata": {},
     "output_type": "execute_result"
    }
   ],
   "source": [
    "'''Which python statements are used to catch and handel exceptions? Explain with an example.'''"
   ]
  },
  {
   "cell_type": "code",
   "execution_count": 7,
   "metadata": {},
   "outputs": [
    {
     "data": {
      "text/plain": [
       "' \\nIn Python, the try, except, else, and finally statements are used to catch and handle exceptions. These statements are part of the try-except block structure. Here\\'s an explanation of each:\\n\\ntry statement:\\n\\nThe try block contains the code that may raise an exception. It is the segment of code where you anticipate the possibility of an exception.\\nexcept statement:\\n\\nThe except block is executed if an exception occurs in the corresponding try block. It specifies the type of exception you want to catch and handle.\\nelse statement:\\n\\nThe else block is executed if no exception occurs in the try block. It contains code that should run only when no exception has been raised.\\nfinally statement:\\n\\nThe finally block is always executed, regardless of whether an exception occurred or not. It is often used for cleanup operations, such as closing files or releasing resources.\\ndef divide_numbers(a, b):\\n    try:\\n        result = a / b  # This may raise a ZeroDivisionError\\n    except ZeroDivisionError as e:\\n        print(f\"Error: {e}\")\\n        return None\\n    else:\\n        print(\"Division successful.\")\\n        return result\\n    finally:\\n        print(\"This will always execute.\")\\n\\n# Example 1: Division by zero\\nresult1 = divide_numbers(10, 0)\\nprint(\"Result 1:\", result1)\\n\\n# Example 2: Successful division\\nresult2 = divide_numbers(10, 2)\\nprint(\"Result 2:\", result2)\\n'"
      ]
     },
     "execution_count": 7,
     "metadata": {},
     "output_type": "execute_result"
    }
   ],
   "source": [
    "''' \n",
    "In Python, the try, except, else, and finally statements are used to catch and handle exceptions. These statements are part of the try-except block structure. Here's an explanation of each:\n",
    "\n",
    "try statement:\n",
    "\n",
    "The try block contains the code that may raise an exception. It is the segment of code where you anticipate the possibility of an exception.\n",
    "except statement:\n",
    "\n",
    "The except block is executed if an exception occurs in the corresponding try block. It specifies the type of exception you want to catch and handle.\n",
    "else statement:\n",
    "\n",
    "The else block is executed if no exception occurs in the try block. It contains code that should run only when no exception has been raised.\n",
    "finally statement:\n",
    "\n",
    "The finally block is always executed, regardless of whether an exception occurred or not. It is often used for cleanup operations, such as closing files or releasing resources.\n",
    "def divide_numbers(a, b):\n",
    "    try:\n",
    "        result = a / b  # This may raise a ZeroDivisionError\n",
    "    except ZeroDivisionError as e:\n",
    "        print(f\"Error: {e}\")\n",
    "        return None\n",
    "    else:\n",
    "        print(\"Division successful.\")\n",
    "        return result\n",
    "    finally:\n",
    "        print(\"This will always execute.\")\n",
    "\n",
    "# Example 1: Division by zero\n",
    "result1 = divide_numbers(10, 0)\n",
    "print(\"Result 1:\", result1)\n",
    "\n",
    "# Example 2: Successful division\n",
    "result2 = divide_numbers(10, 2)\n",
    "print(\"Result 2:\", result2)\n",
    "'''"
   ]
  },
  {
   "cell_type": "code",
   "execution_count": 9,
   "metadata": {},
   "outputs": [
    {
     "data": {
      "text/plain": [
       "' Explain with an example\\na) try and else\\nb) finally\\nc) raise'"
      ]
     },
     "execution_count": 9,
     "metadata": {},
     "output_type": "execute_result"
    }
   ],
   "source": [
    "''' Explain with an example\n",
    "a) try and else\n",
    "b) finally\n",
    "c) raise'''"
   ]
  },
  {
   "cell_type": "code",
   "execution_count": 10,
   "metadata": {},
   "outputs": [
    {
     "data": {
      "text/plain": [
       "' def divide_numbers(a, b):\\n    try:\\n        result = a / b  # This may raise a ZeroDivisionError\\n    except ZeroDivisionError as e:\\n        print(f\"Error: {e}\")\\n        return None\\n    else:\\n        print(\"Division successful.\")\\n        return result\\n    finally:\\n        print(\"This will always execute.\")\\n\\n# Example 1: Division by zero\\nresult1 = divide_numbers(10, 0)\\nprint(\"Result 1:\", result1)\\n\\n# Example 2: Successful division\\nresult2 = divide_numbers(10, 2)\\nprint(\"Result 2:\", result2)\\n'"
      ]
     },
     "execution_count": 10,
     "metadata": {},
     "output_type": "execute_result"
    }
   ],
   "source": [
    "''' def divide_numbers(a, b):\n",
    "    try:\n",
    "        result = a / b  # This may raise a ZeroDivisionError\n",
    "    except ZeroDivisionError as e:\n",
    "        print(f\"Error: {e}\")\n",
    "        return None\n",
    "    else:\n",
    "        print(\"Division successful.\")\n",
    "        return result\n",
    "    finally:\n",
    "        print(\"This will always execute.\")\n",
    "\n",
    "# Example 1: Division by zero\n",
    "result1 = divide_numbers(10, 0)\n",
    "print(\"Result 1:\", result1)\n",
    "\n",
    "# Example 2: Successful division\n",
    "result2 = divide_numbers(10, 2)\n",
    "print(\"Result 2:\", result2)\n",
    "'''"
   ]
  },
  {
   "cell_type": "code",
   "execution_count": 11,
   "metadata": {},
   "outputs": [
    {
     "data": {
      "text/plain": [
       "' What are custom Exceptions in python? Why do we need Custom Exception? Explain with an example.'"
      ]
     },
     "execution_count": 11,
     "metadata": {},
     "output_type": "execute_result"
    }
   ],
   "source": [
    "''' What are custom Exceptions in python? Why do we need Custom Exception? Explain with an example.'''"
   ]
  },
  {
   "cell_type": "code",
   "execution_count": 12,
   "metadata": {},
   "outputs": [
    {
     "data": {
      "text/plain": [
       "'\\nIn Python, custom exceptions are user-defined exceptions that you create to handle specific error conditions in your code. While Python provides a wide range of built-in exceptions (such as ValueError, TypeError, FileNotFoundError, etc.), there are situations where it makes sense to define your own exceptions to represent application-specific errors.\\nWhy do we need Custom Exceptions?\\nClarity and Readability:\\n\\nCustom exceptions allow you to give meaningful names to specific error conditions in your code, making it more readable and self-explanatory. This can significantly improve the maintainability of your code.\\nSpecificity:\\n\\nCustom exceptions enable you to capture and handle errors at a higher level of specificity. Instead of using generic exceptions for multiple error scenarios, you can create exceptions tailored to the unique situations in your application.\\nCentralized Error Handling:\\n\\nUsing custom exceptions allows you to centralize error-handling logic for specific application domains. This makes it easier to manage and update error-handling behavior consistently across your codebase.\\nExample:\\nLet\\'s create a custom exception called InvalidAgeError to represent situations where an age is invalid (e.g., negative age or age greater than a specified maximum). We\\'ll use this exception in a function that validates a person\\'s age.\\n\\npython\\nCopy code\\nclass InvalidAgeError(Exception):\\n    def __init__(self, message=\"Invalid age\"):\\n        self.message = message\\n        super().__init__(self.message)\\n\\ndef validate_age(age):\\n    min_age = 0\\n    max_age = 120\\n\\n    try:\\n        if not (min_age <= age <= max_age):\\n            raise InvalidAgeError(\"Age must be between 0 and 120\")\\n        else:\\n            print(\"Age is valid:\", age)\\n    except InvalidAgeError as e:\\n        print(f\"Error: {e}\")\\n\\n# Example usage:\\nvalidate_age(25)      # Valid age\\nvalidate_age(-5)      # Invalid age: raises InvalidAgeError\\nvalidate_age(150)     # Invalid age: raises InvalidAgeError'"
      ]
     },
     "execution_count": 12,
     "metadata": {},
     "output_type": "execute_result"
    }
   ],
   "source": [
    "'''\n",
    "In Python, custom exceptions are user-defined exceptions that you create to handle specific error conditions in your code. While Python provides a wide range of built-in exceptions (such as ValueError, TypeError, FileNotFoundError, etc.), there are situations where it makes sense to define your own exceptions to represent application-specific errors.\n",
    "Why do we need Custom Exceptions?\n",
    "Clarity and Readability:\n",
    "\n",
    "Custom exceptions allow you to give meaningful names to specific error conditions in your code, making it more readable and self-explanatory. This can significantly improve the maintainability of your code.\n",
    "Specificity:\n",
    "\n",
    "Custom exceptions enable you to capture and handle errors at a higher level of specificity. Instead of using generic exceptions for multiple error scenarios, you can create exceptions tailored to the unique situations in your application.\n",
    "Centralized Error Handling:\n",
    "\n",
    "Using custom exceptions allows you to centralize error-handling logic for specific application domains. This makes it easier to manage and update error-handling behavior consistently across your codebase.\n",
    "Example:\n",
    "Let's create a custom exception called InvalidAgeError to represent situations where an age is invalid (e.g., negative age or age greater than a specified maximum). We'll use this exception in a function that validates a person's age.\n",
    "\n",
    "python\n",
    "Copy code\n",
    "class InvalidAgeError(Exception):\n",
    "    def __init__(self, message=\"Invalid age\"):\n",
    "        self.message = message\n",
    "        super().__init__(self.message)\n",
    "\n",
    "def validate_age(age):\n",
    "    min_age = 0\n",
    "    max_age = 120\n",
    "\n",
    "    try:\n",
    "        if not (min_age <= age <= max_age):\n",
    "            raise InvalidAgeError(\"Age must be between 0 and 120\")\n",
    "        else:\n",
    "            print(\"Age is valid:\", age)\n",
    "    except InvalidAgeError as e:\n",
    "        print(f\"Error: {e}\")\n",
    "\n",
    "# Example usage:\n",
    "validate_age(25)      # Valid age\n",
    "validate_age(-5)      # Invalid age: raises InvalidAgeError\n",
    "validate_age(150)     # Invalid age: raises InvalidAgeError'''"
   ]
  },
  {
   "cell_type": "code",
   "execution_count": 13,
   "metadata": {},
   "outputs": [
    {
     "data": {
      "text/plain": [
       "' Create a custom exception class. Use this class to handel an exception.\\n'"
      ]
     },
     "execution_count": 13,
     "metadata": {},
     "output_type": "execute_result"
    }
   ],
   "source": [
    "''' Create a custom exception class. Use this class to handel an exception.\n",
    "'''"
   ]
  },
  {
   "cell_type": "code",
   "execution_count": 14,
   "metadata": {},
   "outputs": [
    {
     "data": {
      "text/plain": [
       "' class CustomError(Exception):\\n    def __init__(self, message=\"A custom error occurred\"):\\n        self.message = message\\n        super().__init__(self.message)\\n\\ndef example_function(value):\\n    try:\\n        if value < 0:\\n            raise CustomError(\"Value cannot be negative\")\\n        else:\\n            print(\"Value is:\", value)\\n    except CustomError as e:\\n        print(f\"Custom Error: {e}\")\\n\\n# Example usage:\\nexample_function(42)   # Valid value\\nexample_function(-5)   # Invalid value: raises CustomError\\n\\n'"
      ]
     },
     "execution_count": 14,
     "metadata": {},
     "output_type": "execute_result"
    }
   ],
   "source": [
    "''' class CustomError(Exception):\n",
    "    def __init__(self, message=\"A custom error occurred\"):\n",
    "        self.message = message\n",
    "        super().__init__(self.message)\n",
    "\n",
    "def example_function(value):\n",
    "    try:\n",
    "        if value < 0:\n",
    "            raise CustomError(\"Value cannot be negative\")\n",
    "        else:\n",
    "            print(\"Value is:\", value)\n",
    "    except CustomError as e:\n",
    "        print(f\"Custom Error: {e}\")\n",
    "\n",
    "# Example usage:\n",
    "example_function(42)   # Valid value\n",
    "example_function(-5)   # Invalid value: raises CustomError\n",
    "\n",
    "'''"
   ]
  },
  {
   "cell_type": "code",
   "execution_count": null,
   "metadata": {},
   "outputs": [],
   "source": []
  }
 ],
 "metadata": {
  "kernelspec": {
   "display_name": "Python 3",
   "language": "python",
   "name": "python3"
  },
  "language_info": {
   "codemirror_mode": {
    "name": "ipython",
    "version": 3
   },
   "file_extension": ".py",
   "mimetype": "text/x-python",
   "name": "python",
   "nbconvert_exporter": "python",
   "pygments_lexer": "ipython3",
   "version": "3.11.7"
  }
 },
 "nbformat": 4,
 "nbformat_minor": 2
}
